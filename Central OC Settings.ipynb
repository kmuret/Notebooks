{
 "cells": [
  {
   "cell_type": "markdown",
   "id": "e66d6247-9ebc-4b52-b85e-3cb7e3516eee",
   "metadata": {},
   "source": [
    "# Central Substation Overcurrent Settings"
   ]
  },
  {
   "cell_type": "code",
   "execution_count": 1,
   "id": "f8a0f41f-328b-4fb3-b394-e518e64cf188",
   "metadata": {},
   "outputs": [],
   "source": [
    "import handcalcs.render\n",
    "import forallpeople as si\n",
    "si.environment('default')\n",
    "from math import sqrt"
   ]
  },
  {
   "cell_type": "markdown",
   "id": "74bc6845-8979-493c-bf6d-67605e31d8e0",
   "metadata": {},
   "source": [
    "### Transformer Data"
   ]
  },
  {
   "cell_type": "code",
   "execution_count": 2,
   "id": "bb814ab1-7f2e-414d-a0b2-4409e8f104f6",
   "metadata": {
    "tags": []
   },
   "outputs": [
    {
     "data": {
      "text/latex": [
       "\\[\n",
       "\\begin{aligned}\n",
       "\\mathrm{Rating}_{oa} &= 16.800\\ \\text{MW} \\; \n",
       " &\\mathrm{Rating}_{max} &= 28.000\\ \\text{MW} \\; \n",
       " &V_{pri} &= 69.000\\ \\text{kV} \\; \n",
       "\\\\[10pt]\n",
       " V_{sec} &= 12.470\\ \\text{kV} \\; \n",
       " &Z_{1} &= 0.086 \\; \n",
       " &Z_{0} &= 0.086 \\; \n",
       "\\\\[10pt]\\end{aligned}\n",
       "\\]"
      ],
      "text/plain": [
       "<IPython.core.display.Latex object>"
      ]
     },
     "metadata": {},
     "output_type": "display_data"
    }
   ],
   "source": [
    "%%render params\n",
    "Rating_oa=16800000*si.W\n",
    "Rating_max=28000000*si.W\n",
    "V_pri=69000*si.V\n",
    "V_sec=12470*si.V\n",
    "Z_1=0.086\n",
    "Z_0=0.086"
   ]
  },
  {
   "cell_type": "markdown",
   "id": "8184d558-45b1-4cea-928b-4f772c741487",
   "metadata": {},
   "source": [
    "### Current Calculations"
   ]
  },
  {
   "cell_type": "code",
   "execution_count": 3,
   "id": "3b8704cb-6388-4555-b8cf-8667367da804",
   "metadata": {
    "tags": []
   },
   "outputs": [
    {
     "data": {
      "text/latex": [
       "\\[\n",
       "\\begin{aligned}\n",
       "I_{oaloadpri} &= 140.572\\ \\text{A} \\; \n",
       "\\\\[10pt]\n",
       "I_{maxloadpri} &= 234.287\\ \\text{A} \\; \n",
       "\\\\[10pt]\n",
       "I_{oaloadsec} &= 777.826\\ \\text{A} \\; \n",
       "\\\\[10pt]\n",
       "I_{maxloadsec} &= 1.296\\ \\text{kA} \\; \n",
       "\\end{aligned}\n",
       "\\]"
      ],
      "text/plain": [
       "<IPython.core.display.Latex object>"
      ]
     },
     "metadata": {},
     "output_type": "display_data"
    }
   ],
   "source": [
    "%%render\n",
    "I_oaloadpri=Rating_oa/(V_pri*sqrt(3))\n",
    "I_maxloadpri=Rating_max/(V_pri*sqrt(3))\n",
    "I_oaloadsec=Rating_oa/(V_sec*sqrt(3))\n",
    "I_maxloadsec=Rating_max/(V_sec*sqrt(3))"
   ]
  }
 ],
 "metadata": {
  "kernelspec": {
   "display_name": "Python 3 (ipykernel)",
   "language": "python",
   "name": "python3"
  },
  "language_info": {
   "codemirror_mode": {
    "name": "ipython",
    "version": 3
   },
   "file_extension": ".py",
   "mimetype": "text/x-python",
   "name": "python",
   "nbconvert_exporter": "python",
   "pygments_lexer": "ipython3",
   "version": "3.9.7"
  }
 },
 "nbformat": 4,
 "nbformat_minor": 5
}
